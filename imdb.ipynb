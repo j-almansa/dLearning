{
 "cells": [
  {
   "cell_type": "markdown",
   "metadata": {},
   "source": [
    "# IMDB\n",
    "Case study with Recurrent Neural Network to demonstrate usage of TensorFlow 2.0 (Keras).\n",
    "\n",
    "[ https://www.tensorflow.org/tutorials/keras/basic_text_classification ]"
   ]
  },
  {
   "cell_type": "code",
   "execution_count": 62,
   "metadata": {},
   "outputs": [
    {
     "data": {
      "text/plain": [
       "'2.0.0-alpha0'"
      ]
     },
     "execution_count": 62,
     "metadata": {},
     "output_type": "execute_result"
    }
   ],
   "source": [
    "import numpy as np\n",
    "import matplotlib.pyplot as plt\n",
    "import datetime\n",
    "from time import localtime, strftime\n",
    "import tensorflow as tf\n",
    "from tensorflow.keras.datasets import imdb\n",
    "\n",
    "tf.__version__"
   ]
  },
  {
   "cell_type": "markdown",
   "metadata": {},
   "source": [
    "## Preprocessing\n",
    "Loading and exploring data, and padding in preparation as input to a model.\n",
    "\n",
    "(Note: Code in lines 1 and 5 below is there only to allow correct loading of the imdb dataset. Value for parameter `allow_pickle` must be set temporarily to `true`, but only temporarily since otherwise this would allow for the Python-equivalent of an SQL injection attack in a pickle file.\n",
    "See\n",
    "\n",
    "[ https://stackoverflow.com/a/57391693 ]\n",
    "\n",
    "[ https://stackoverflow.com/a/56062555 ]"
   ]
  },
  {
   "cell_type": "code",
   "execution_count": 55,
   "metadata": {},
   "outputs": [
    {
     "name": "stdout",
     "output_type": "stream",
     "text": [
      "X_train: (25000,)\n",
      "X_test:  (25000,)\n"
     ]
    }
   ],
   "source": [
    "np.load.__defaults__=(None, True, True, 'ASCII')\n",
    "\n",
    "number_of_words = 20000\n",
    "(X_train,y_train), (X_test,y_test) = imdb.load_data( num_words=number_of_words )\n",
    "print( \"X_train: {}\".format(X_train.shape) )\n",
    "print( \"X_test:  {}\".format(X_train.shape) )\n",
    "\n",
    "np.load.__defaults__=(None, False, True, 'ASCII')"
   ]
  },
  {
   "cell_type": "code",
   "execution_count": 56,
   "metadata": {},
   "outputs": [
    {
     "name": "stdout",
     "output_type": "stream",
     "text": [
      "Lengths of first and second reviews in X_train: 218,189\n",
      "X_train[0]: [1, 14, 22, 16, 43, 530, 973, 1622, 1385, 65, 458, 4468, 66, 3941, 4, 173, 36, 256, 5, 25, 100, 43, 838, 112, 50, 670, 2, 9, 35, 480, 284, 5, 150, 4, 172, 112, 167, 2, 336, 385, 39, 4, 172, 4536, 1111, 17, 546, 38, 13, 447, 4, 192, 50, 16, 6, 147, 2025, 19, 14, 22, 4, 1920, 4613, 469, 4, 22, 71, 87, 12, 16, 43, 530, 38, 76, 15, 13, 1247, 4, 22, 17, 515, 17, 12, 16, 626, 18, 19193, 5, 62, 386, 12, 8, 316, 8, 106, 5, 4, 2223, 5244, 16, 480, 66, 3785, 33, 4, 130, 12, 16, 38, 619, 5, 25, 124, 51, 36, 135, 48, 25, 1415, 33, 6, 22, 12, 215, 28, 77, 52, 5, 14, 407, 16, 82, 10311, 8, 4, 107, 117, 5952, 15, 256, 4, 2, 7, 3766, 5, 723, 36, 71, 43, 530, 476, 26, 400, 317, 46, 7, 4, 12118, 1029, 13, 104, 88, 4, 381, 15, 297, 98, 32, 2071, 56, 26, 141, 6, 194, 7486, 18, 4, 226, 22, 21, 134, 476, 26, 480, 5, 144, 30, 5535, 18, 51, 36, 28, 224, 92, 25, 104, 4, 226, 65, 16, 38, 1334, 88, 12, 16, 283, 5, 16, 4472, 113, 103, 32, 15, 16, 5345, 19, 178, 32]\n",
      "X_train[0]: <START> this film was just brilliant casting location scenery story direction everyone's really suited...\n",
      "y_train[0]: positive\n",
      "X_test[0]: <START> please give this one a miss br br kristy swanson and the rest of the cast rendered terrible...\n",
      "y_test[0]: negative\n"
     ]
    }
   ],
   "source": [
    "#explore train and test dataset\n",
    "print( \"Lengths of first and second reviews in X_train: {},{}\".format( len(X_train[0]), len(X_train[1]) ) )\n",
    "print( \"X_train[0]: {}\".format( X_train[0] ) )\n",
    "\n",
    "#Convert integers back to words using helper functions from TensorFlow tutorial\n",
    "#dictionary mapping words to an integer index\n",
    "word_index = imdb.get_word_index()\n",
    "\n",
    "#the first indices are reserved\n",
    "word_index = {k:(v+3) for k,v in word_index.items()}\n",
    "word_index[\"<PAD>\"] = 0\n",
    "word_index[\"<START>\"] = 1\n",
    "word_index[\"<UNK>\"] = 2  # unknown\n",
    "word_index[\"<UNUSED>\"] = 3\n",
    "\n",
    "reverse_word_index = dict([(value, key) for (key, value) in word_index.items()])\n",
    "\n",
    "def decode_review(text):\n",
    "    return ' '.join([reverse_word_index.get(i, '?') for i in text])\n",
    "\n",
    "print( \"X_train[0]: {}...\".format( decode_review( X_train[0][:14] ) ) )\n",
    "print( \"y_train[0]: {}\".format( \"positive\" if (y_train[0]==1) else \"negative\" ) )\n",
    "\n",
    "print( \"X_test[0]: {}...\".format( decode_review( X_test[0][:19] ) ) )\n",
    "print( \"y_test[0]: {}\".format( \"positive\" if (y_test[0]==1) else \"negative\" ) )\n",
    "\n",
    "#decode_review( X_test[0] )"
   ]
  },
  {
   "cell_type": "code",
   "execution_count": 57,
   "metadata": {},
   "outputs": [
    {
     "name": "stdout",
     "output_type": "stream",
     "text": [
      "X_train[0]: [ 1415    33     6    22    12   215    28    77    52     5    14   407\n",
      "    16    82 10311     8     4   107   117  5952    15   256     4     2\n",
      "     7  3766     5   723    36    71    43   530   476    26   400   317\n",
      "    46     7     4 12118  1029    13   104    88     4   381    15   297\n",
      "    98    32  2071    56    26   141     6   194  7486    18     4   226\n",
      "    22    21   134   476    26   480     5   144    30  5535    18    51\n",
      "    36    28   224    92    25   104     4   226    65    16    38  1334\n",
      "    88    12    16   283     5    16  4472   113   103    32    15    16\n",
      "  5345    19   178    32]\n",
      "X_train[0]: cry at a film it must have been good and this definitely was also...\n"
     ]
    }
   ],
   "source": [
    "#padding\n",
    "max_len = 100\n",
    "X_train = tf.keras.preprocessing.sequence.pad_sequences(X_train, maxlen=max_len)\n",
    "X_test = tf.keras.preprocessing.sequence.pad_sequences(X_test, maxlen=max_len)\n",
    "print( \"X_train[0]: {}\".format( X_train[0] ) )\n",
    "print( \"X_train[0]: {}...\".format( decode_review( X_train[0][:14] ) ) )"
   ]
  },
  {
   "cell_type": "markdown",
   "metadata": {},
   "source": [
    "## Model Construction\n",
    "Recurrent neural network."
   ]
  },
  {
   "cell_type": "markdown",
   "metadata": {},
   "source": [
    "### Architecture and Optimization Strategy\n",
    "Sequential network with size-3 kernels and max pooling. Learning will use Adam optimizer, with sparse categorical cross entropy as loss and sparse categorical accuracy as performance metric.\n",
    "\n",
    "[ https://stackoverflow.com/questions/44477489/keras-difference-between-categorical-accuracy-and-sparse-categorical-accuracy ]"
   ]
  },
  {
   "cell_type": "code",
   "execution_count": 49,
   "metadata": {},
   "outputs": [
    {
     "name": "stdout",
     "output_type": "stream",
     "text": [
      "Model: \"sequential\"\n",
      "_________________________________________________________________\n",
      "Layer (type)                 Output Shape              Param #   \n",
      "=================================================================\n",
      "embedding (Embedding)        (None, 100, 128)          2560000   \n",
      "_________________________________________________________________\n",
      "unified_lstm (UnifiedLSTM)   (None, 128)               131584    \n",
      "_________________________________________________________________\n",
      "dense (Dense)                (None, 1)                 129       \n",
      "=================================================================\n",
      "Total params: 2,691,713\n",
      "Trainable params: 2,691,713\n",
      "Non-trainable params: 0\n",
      "_________________________________________________________________\n"
     ]
    }
   ],
   "source": [
    "#---[ Architecture ]------------------------------------------------------\n",
    "#network type: a sequence of layers\n",
    "model = tf.keras.models.Sequential()\n",
    "\n",
    "#layer 1: embedding of size 128\n",
    "model.add( tf.keras.layers.Embedding(input_dim=number_of_words, output_dim=128, input_shape=(X_train.shape[1],)) )\n",
    "\n",
    "#layer 2: LSTM with hyperbolic tangent as activation\n",
    "model.add( tf.keras.layers.LSTM(units=128, activation='tanh') )\n",
    "\n",
    "#output layer: one unit with sigmoid as activation\n",
    "model.add( tf.keras.layers.Dense(units=1, activation='sigmoid') )\n",
    "\n",
    "\n",
    "#---[ Optimization Strategy ]------------------------------------------------------\n",
    "##validation set\n",
    "\n",
    "##initial_learning_rate = ...\n",
    "##\n",
    "##lr_schedule = tf.keras.optimizers.schedules.ExponentialDecay(\n",
    "##    initial_learning_rate,\n",
    "##    decay_steps=...,\n",
    "##    decay_rate=...,\n",
    "##    staircase=...)\n",
    "##\n",
    "##Adamdecay = tf.keras.optimizers.Adam(learning_rate=lr_schedule)*/\n",
    "##model.compile( optimizer=Adamdecay, loss='sparse_categorical_crossentropy', metrics=['sparse_categorical_accuracy'] )\n",
    "\n",
    "model.compile( optimizer='rmsprop', loss='binary_crossentropy', metrics=['accuracy'] )\n",
    "\n",
    "\n",
    "model.summary()"
   ]
  },
  {
   "cell_type": "markdown",
   "metadata": {},
   "source": [
    "### Training\n",
    "Three epochs in batch mode."
   ]
  },
  {
   "cell_type": "code",
   "execution_count": 58,
   "metadata": {},
   "outputs": [
    {
     "name": "stderr",
     "output_type": "stream",
     "text": [
      "W0814 17:53:14.172904 140030050273088 callbacks.py:1194] Embeddings will be ignored in TensorFlow 2.0 for the `TensorBoard` Callback.\n"
     ]
    },
    {
     "name": "stdout",
     "output_type": "stream",
     "text": [
      "Train on 20000 samples, validate on 5000 samples\n",
      "Epoch 1/3\n",
      "20000/20000 [==============================] - 21s 1ms/sample - loss: 0.1037 - accuracy: 0.9631 - val_loss: 0.1419 - val_accuracy: 0.9470\n",
      "Epoch 2/3\n",
      "20000/20000 [==============================] - 26s 1ms/sample - loss: 0.0848 - accuracy: 0.9715 - val_loss: 0.1377 - val_accuracy: 0.9496\n",
      "Epoch 3/3\n",
      "20000/20000 [==============================] - 26s 1ms/sample - loss: 0.0674 - accuracy: 0.9765 - val_loss: 0.1636 - val_accuracy: 0.9384\n"
     ]
    }
   ],
   "source": [
    "#validation set\n",
    "X_val = X_train[-5000:]\n",
    "y_val = y_train[-5000:]\n",
    "X_train = X_train[:-5000]\n",
    "y_train = y_train[:-5000]\n",
    "\n",
    "\n",
    "tensorboard_cbk = tf.keras.callbacks.TensorBoard(\n",
    "  log_dir='./imdb_tb/' + strftime( \"%Y%b%dT%Hh%M\", localtime() ).lower() + '/',\n",
    "  histogram_freq=1,  # How often to log histogram visualizations\n",
    "  embeddings_freq=1,  # How often to log embedding visualizations\n",
    "  update_freq='epoch' # How often to write logs (default: once per epoch)\n",
    ")\n",
    "\n",
    "numepochs = 3\n",
    "batchsize = 128\n",
    "history = model.fit( X_train, y_train,\n",
    "                     epochs=numepochs,\n",
    "                     batch_size=batchsize,\n",
    "                     validation_data=(X_val,y_val))#,\n",
    "                     #callbacks=[tensorboard_cbk] )"
   ]
  },
  {
   "cell_type": "code",
   "execution_count": 63,
   "metadata": {},
   "outputs": [
    {
     "data": {
      "image/png": "[encoded data removed]",
      "text/plain": [
       "<Figure size 936x360 with 2 Axes>"
      ]
     },
     "metadata": {
      "needs_background": "light"
     },
     "output_type": "display_data"
    }
   ],
   "source": [
    "history_dict = history.history\n",
    "#print(history_dict.keys())\n",
    "\n",
    "acc = history_dict['accuracy']\n",
    "val_acc = history_dict['val_accuracy']\n",
    "loss = history_dict['loss']\n",
    "val_loss = history_dict['val_loss']\n",
    "\n",
    "epochs = range(1, len(acc) + 1)\n",
    "\n",
    "fig, axes = plt.subplots(1,2, figsize=(13,5))\n",
    "axes[0].set_title('Training and validation loss')\n",
    "axes[0].set_xlabel('Epochs')\n",
    "axes[0].set_ylabel('Loss')\n",
    "axes[0].plot(epochs, loss, 'bo', label='Training loss')\n",
    "axes[0].plot(epochs, val_loss, 'b-', label='Validation loss')\n",
    "axes[0].set_xticks([i for i in range(0,len(epochs)+1)])\n",
    "#axes[0].xaxis.set_major_locator(plt.MultipleLocator(5))\n",
    "axes[0].legend()\n",
    "\n",
    "axes[1].set_title('Training and validation accuracy')\n",
    "axes[1].set_xlabel('Epochs')\n",
    "axes[1].set_ylabel('Accuracy')\n",
    "axes[1].plot(epochs, acc, 'bo', label='Training acc')\n",
    "axes[1].plot(epochs, val_acc, 'b', label='Validation acc')\n",
    "axes[1].set_xticks([i for i in range(0,len(epochs)+1)])\n",
    "#axes[1].xaxis.set_major_locator(plt.MultipleLocator(5))\n",
    "axes[1].legend()\n",
    "\n",
    "fig.tight_layout()\n",
    "plt.subplots_adjust(wspace=0.25)\n",
    "plt.show()"
   ]
  },
  {
   "cell_type": "markdown",
   "metadata": {},
   "source": [
    "## Evaluation and Prediction\n",
    "Finally, the (approximated) model is evaluated using the test dataset."
   ]
  },
  {
   "cell_type": "code",
   "execution_count": 64,
   "metadata": {},
   "outputs": [
    {
     "name": "stdout",
     "output_type": "stream",
     "text": [
      "25000/25000 [==============================] - 14s 577us/sample - loss: 0.5801 - accuracy: 0.8218\n",
      "Test accuracy: 0.8218399882316589\n"
     ]
    }
   ],
   "source": [
    "test_loss, test_accuracy = model.evaluate( X_test, y_test )\n",
    "\n",
    "print( \"Test accuracy: {}\".format(test_accuracy) )"
   ]
  },
  {
   "cell_type": "markdown",
   "metadata": {},
   "source": [
    "### If all went well...\n",
    "...save the model."
   ]
  },
  {
   "cell_type": "code",
   "execution_count": null,
   "metadata": {},
   "outputs": [],
   "source": [
    "#save architecture\n",
    "model_json = model.to_json()\n",
    "with open(\"imdb_model.json\",\"w\") as jsonfile:\n",
    "    jsonfile.write(model_json)\n",
    "\n",
    "#save weights\n",
    "model.save_weights(\"imdb_model.h5\")"
   ]
  }
 ],
 "metadata": {
  "kernelspec": {
   "display_name": "Python 3",
   "language": "python",
   "name": "python3"
  },
  "language_info": {
   "codemirror_mode": {
    "name": "ipython",
    "version": 3
   },
   "file_extension": ".py",
   "mimetype": "text/x-python",
   "name": "python",
   "nbconvert_exporter": "python",
   "pygments_lexer": "ipython3",
   "version": "3.6.8"
  }
 },
 "nbformat": 4,
 "nbformat_minor": 2
}
