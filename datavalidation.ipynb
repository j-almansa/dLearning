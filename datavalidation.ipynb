{
  "nbformat": 4,
  "nbformat_minor": 0,
  "metadata": {
    "colab": {
      "name": "datavalidation.ipynb",
      "provenance": [],
      "collapsed_sections": []
    },
    "kernelspec": {
      "name": "python2",
      "display_name": "Python 2"
    },
    "accelerator": "GPU"
  },
  "cells": [
    {
      "cell_type": "markdown",
      "metadata": {
        "id": "EC-W9wHjncx9",
        "colab_type": "text"
      },
      "source": [
        "# Data Validation with TensorFlow Data Validation (TFDV)\n",
        "Data validation is the process of examining data to ensure that they can be properly input before training (training data) or inference (serving data).\n",
        "One way to gain confidence in the validity of data is to prove conformance to a given formal specification.\n",
        "\n",
        "[TensorFlow Data Validation](https://github.com/tensorflow/data-validation) (TFDV) is a library for exploring and validating machine learning data. It is designed to be highly scalable and to work well with TensorFlow and TensorFlow Extended (TFX). Below is a simple example of data validation with TFDV.\n",
        "\n",
        "NB: This notebook's runtime type is Python 2."
      ]
    },
    {
      "cell_type": "markdown",
      "metadata": {
        "id": "wf6nxdDBtGN5",
        "colab_type": "text"
      },
      "source": [
        "## Set-up"
      ]
    },
    {
      "cell_type": "code",
      "metadata": {
        "id": "q8b1TeZBs_2S",
        "colab_type": "code",
        "outputId": "3269dab9-4470-4848-f47c-a47320fd09da",
        "colab": {
          "base_uri": "https://localhost:8080/",
          "height": 289
        }
      },
      "source": [
        "!apt-get install python-dev python-snappy"
      ],
      "execution_count": 1,
      "outputs": [
        {
          "output_type": "stream",
          "text": [
            "Reading package lists... Done\n",
            "Building dependency tree       \n",
            "Reading state information... Done\n",
            "python-dev is already the newest version (2.7.15~rc1-1).\n",
            "The following NEW packages will be installed:\n",
            "  python-snappy\n",
            "0 upgraded, 1 newly installed, 0 to remove and 28 not upgraded.\n",
            "Need to get 10.8 kB of archives.\n",
            "After this operation, 39.9 kB of additional disk space will be used.\n",
            "Get:1 http://archive.ubuntu.com/ubuntu bionic/universe amd64 python-snappy amd64 0.5-1.1build2 [10.8 kB]\n",
            "Fetched 10.8 kB in 0s (257 kB/s)\n",
            "Selecting previously unselected package python-snappy.\n",
            "(Reading database ... 132681 files and directories currently installed.)\n",
            "Preparing to unpack .../python-snappy_0.5-1.1build2_amd64.deb ...\n",
            "Unpacking python-snappy (0.5-1.1build2) ...\n",
            "Setting up python-snappy (0.5-1.1build2) ...\n"
          ],
          "name": "stdout"
        }
      ]
    },
    {
      "cell_type": "code",
      "metadata": {
        "id": "7bMUsv3JwU2A",
        "colab_type": "code",
        "outputId": "04ab02a0-ff59-4c86-a331-b7a76c200780",
        "colab": {
          "base_uri": "https://localhost:8080/",
          "height": 476
        }
      },
      "source": [
        "!pip install -q tensorflow_data_validation"
      ],
      "execution_count": 2,
      "outputs": [
        {
          "output_type": "stream",
          "text": [
            "\u001b[K     |████████████████████████████████| 2.3MB 2.4MB/s \n",
            "\u001b[K     |████████████████████████████████| 225kB 60.4MB/s \n",
            "\u001b[K     |████████████████████████████████| 1.9MB 41.9MB/s \n",
            "\u001b[K     |████████████████████████████████| 2.9MB 39.6MB/s \n",
            "\u001b[K     |████████████████████████████████| 440kB 55.9MB/s \n",
            "\u001b[K     |████████████████████████████████| 51kB 5.1MB/s \n",
            "\u001b[K     |████████████████████████████████| 51kB 5.3MB/s \n",
            "\u001b[K     |████████████████████████████████| 1.0MB 45.1MB/s \n",
            "\u001b[K     |████████████████████████████████| 81kB 9.6MB/s \n",
            "\u001b[K     |████████████████████████████████| 122kB 54.4MB/s \n",
            "\u001b[K     |████████████████████████████████| 143kB 57.3MB/s \n",
            "\u001b[K     |████████████████████████████████| 235kB 61.9MB/s \n",
            "\u001b[K     |████████████████████████████████| 92kB 10.6MB/s \n",
            "\u001b[K     |████████████████████████████████| 512kB 56.4MB/s \n",
            "\u001b[K     |████████████████████████████████| 71kB 8.4MB/s \n",
            "\u001b[?25h  Building wheel for tensorflow-transform (setup.py) ... \u001b[?25l\u001b[?25hdone\n",
            "  Building wheel for psutil (setup.py) ... \u001b[?25l\u001b[?25hdone\n",
            "  Building wheel for avro (setup.py) ... \u001b[?25l\u001b[?25hdone\n",
            "  Building wheel for hdfs (setup.py) ... \u001b[?25l\u001b[?25hdone\n",
            "  Building wheel for oauth2client (setup.py) ... \u001b[?25l\u001b[?25hdone\n",
            "  Building wheel for pyvcf (setup.py) ... \u001b[?25l\u001b[?25hdone\n",
            "  Building wheel for proto-google-cloud-datastore-v1 (setup.py) ... \u001b[?25l\u001b[?25hdone\n",
            "  Building wheel for googledatastore (setup.py) ... \u001b[?25l\u001b[?25hdone\n",
            "  Building wheel for docopt (setup.py) ... \u001b[?25l\u001b[?25hdone\n",
            "  Building wheel for grpc-google-iam-v1 (setup.py) ... \u001b[?25l\u001b[?25hdone\n",
            "\u001b[31mERROR: tensorflow-serving-api 2.0.0 has requirement tensorflow~=2.0.0, but you'll have tensorflow 1.15.0 which is incompatible.\u001b[0m\n",
            "\u001b[31mERROR: apache-beam 2.16.0 has requirement python-dateutil<3,>=2.8.0, but you'll have python-dateutil 2.5.3 which is incompatible.\u001b[0m\n"
          ],
          "name": "stdout"
        }
      ]
    },
    {
      "cell_type": "code",
      "metadata": {
        "id": "v15-TQQ4wf4v",
        "colab_type": "code",
        "colab": {
          "base_uri": "https://localhost:8080/",
          "height": 51
        },
        "outputId": "3d9a112a-f285-4603-8a45-220e5ab0953a"
      },
      "source": [
        "import pandas as pd\n",
        "import tensorflow as tf\n",
        "import tensorflow_data_validation as tfdv\n",
        "\n",
        "from __future__ import print_function"
      ],
      "execution_count": 3,
      "outputs": [
        {
          "output_type": "stream",
          "text": [
            "/usr/local/lib/python2.7/dist-packages/apache_beam/__init__.py:84: UserWarning: You are using Apache Beam with Python 2. New releases of Apache Beam will soon support Python 3 only.\n",
            "  'You are using Apache Beam with Python 2. '\n"
          ],
          "name": "stderr"
        }
      ]
    },
    {
      "cell_type": "markdown",
      "metadata": {
        "id": "S5LUUynDxvak",
        "colab_type": "text"
      },
      "source": [
        "## Basic Dataset Description"
      ]
    },
    {
      "cell_type": "code",
      "metadata": {
        "id": "v7r7kstFxfRQ",
        "colab_type": "code",
        "colab": {
          "base_uri": "https://localhost:8080/",
          "height": 34
        },
        "outputId": "6809987d-260f-47fb-aec8-dedc5179860f"
      },
      "source": [
        "dataset = pd.read_csv(\"pollution_small.csv\")\n",
        "dataset.shape"
      ],
      "execution_count": 5,
      "outputs": [
        {
          "output_type": "execute_result",
          "data": {
            "text/plain": [
              "(2188, 5)"
            ]
          },
          "metadata": {
            "tags": []
          },
          "execution_count": 5
        }
      ]
    },
    {
      "cell_type": "code",
      "metadata": {
        "id": "ej93eK0Aysv4",
        "colab_type": "code",
        "colab": {
          "base_uri": "https://localhost:8080/",
          "height": 297
        },
        "outputId": "61313886-a9fe-4b6d-f0fb-8397da24d121"
      },
      "source": [
        "trainingdset = dataset[:1600]\n",
        "trainingdset.describe()"
      ],
      "execution_count": 6,
      "outputs": [
        {
          "output_type": "execute_result",
          "data": {
            "text/html": [
              "<div>\n",
              "<style scoped>\n",
              "    .dataframe tbody tr th:only-of-type {\n",
              "        vertical-align: middle;\n",
              "    }\n",
              "\n",
              "    .dataframe tbody tr th {\n",
              "        vertical-align: top;\n",
              "    }\n",
              "\n",
              "    .dataframe thead th {\n",
              "        text-align: right;\n",
              "    }\n",
              "</style>\n",
              "<table border=\"1\" class=\"dataframe\">\n",
              "  <thead>\n",
              "    <tr style=\"text-align: right;\">\n",
              "      <th></th>\n",
              "      <th>pm10</th>\n",
              "      <th>no2</th>\n",
              "      <th>so2</th>\n",
              "      <th>soot</th>\n",
              "    </tr>\n",
              "  </thead>\n",
              "  <tbody>\n",
              "    <tr>\n",
              "      <th>count</th>\n",
              "      <td>1600.000000</td>\n",
              "      <td>1600.000000</td>\n",
              "      <td>1600.000000</td>\n",
              "      <td>1600.000000</td>\n",
              "    </tr>\n",
              "    <tr>\n",
              "      <th>mean</th>\n",
              "      <td>49.656494</td>\n",
              "      <td>30.980519</td>\n",
              "      <td>16.229981</td>\n",
              "      <td>21.551956</td>\n",
              "    </tr>\n",
              "    <tr>\n",
              "      <th>std</th>\n",
              "      <td>35.211906</td>\n",
              "      <td>12.400788</td>\n",
              "      <td>10.621896</td>\n",
              "      <td>12.127354</td>\n",
              "    </tr>\n",
              "    <tr>\n",
              "      <th>min</th>\n",
              "      <td>6.380000</td>\n",
              "      <td>9.740000</td>\n",
              "      <td>4.010000</td>\n",
              "      <td>6.000000</td>\n",
              "    </tr>\n",
              "    <tr>\n",
              "      <th>25%</th>\n",
              "      <td>28.345000</td>\n",
              "      <td>22.567500</td>\n",
              "      <td>9.777500</td>\n",
              "      <td>14.400000</td>\n",
              "    </tr>\n",
              "    <tr>\n",
              "      <th>50%</th>\n",
              "      <td>38.835000</td>\n",
              "      <td>28.715000</td>\n",
              "      <td>13.275000</td>\n",
              "      <td>18.630000</td>\n",
              "    </tr>\n",
              "    <tr>\n",
              "      <th>75%</th>\n",
              "      <td>58.050000</td>\n",
              "      <td>36.370000</td>\n",
              "      <td>19.282500</td>\n",
              "      <td>24.072500</td>\n",
              "    </tr>\n",
              "    <tr>\n",
              "      <th>max</th>\n",
              "      <td>277.250000</td>\n",
              "      <td>138.010000</td>\n",
              "      <td>123.130000</td>\n",
              "      <td>107.650000</td>\n",
              "    </tr>\n",
              "  </tbody>\n",
              "</table>\n",
              "</div>"
            ],
            "text/plain": [
              "              pm10          no2          so2         soot\n",
              "count  1600.000000  1600.000000  1600.000000  1600.000000\n",
              "mean     49.656494    30.980519    16.229981    21.551956\n",
              "std      35.211906    12.400788    10.621896    12.127354\n",
              "min       6.380000     9.740000     4.010000     6.000000\n",
              "25%      28.345000    22.567500     9.777500    14.400000\n",
              "50%      38.835000    28.715000    13.275000    18.630000\n",
              "75%      58.050000    36.370000    19.282500    24.072500\n",
              "max     277.250000   138.010000   123.130000   107.650000"
            ]
          },
          "metadata": {
            "tags": []
          },
          "execution_count": 6
        }
      ]
    },
    {
      "cell_type": "code",
      "metadata": {
        "id": "lNepyJ0gy9IZ",
        "colab_type": "code",
        "colab": {
          "base_uri": "https://localhost:8080/",
          "height": 297
        },
        "outputId": "885185e6-d602-4347-cee6-7a6e2bdef8cd"
      },
      "source": [
        "testdset = dataset[1600:]\n",
        "testdset.describe()"
      ],
      "execution_count": 7,
      "outputs": [
        {
          "output_type": "execute_result",
          "data": {
            "text/html": [
              "<div>\n",
              "<style scoped>\n",
              "    .dataframe tbody tr th:only-of-type {\n",
              "        vertical-align: middle;\n",
              "    }\n",
              "\n",
              "    .dataframe tbody tr th {\n",
              "        vertical-align: top;\n",
              "    }\n",
              "\n",
              "    .dataframe thead th {\n",
              "        text-align: right;\n",
              "    }\n",
              "</style>\n",
              "<table border=\"1\" class=\"dataframe\">\n",
              "  <thead>\n",
              "    <tr style=\"text-align: right;\">\n",
              "      <th></th>\n",
              "      <th>pm10</th>\n",
              "      <th>no2</th>\n",
              "      <th>so2</th>\n",
              "      <th>soot</th>\n",
              "    </tr>\n",
              "  </thead>\n",
              "  <tbody>\n",
              "    <tr>\n",
              "      <th>count</th>\n",
              "      <td>588.000000</td>\n",
              "      <td>588.000000</td>\n",
              "      <td>588.000000</td>\n",
              "      <td>588.000000</td>\n",
              "    </tr>\n",
              "    <tr>\n",
              "      <th>mean</th>\n",
              "      <td>44.648248</td>\n",
              "      <td>37.296922</td>\n",
              "      <td>13.605170</td>\n",
              "      <td>18.441310</td>\n",
              "    </tr>\n",
              "    <tr>\n",
              "      <th>std</th>\n",
              "      <td>28.992087</td>\n",
              "      <td>10.940050</td>\n",
              "      <td>5.098944</td>\n",
              "      <td>6.596459</td>\n",
              "    </tr>\n",
              "    <tr>\n",
              "      <th>min</th>\n",
              "      <td>11.900000</td>\n",
              "      <td>15.070000</td>\n",
              "      <td>4.990000</td>\n",
              "      <td>8.000000</td>\n",
              "    </tr>\n",
              "    <tr>\n",
              "      <th>25%</th>\n",
              "      <td>28.337500</td>\n",
              "      <td>29.217500</td>\n",
              "      <td>10.122500</td>\n",
              "      <td>14.410000</td>\n",
              "    </tr>\n",
              "    <tr>\n",
              "      <th>50%</th>\n",
              "      <td>35.555000</td>\n",
              "      <td>35.815000</td>\n",
              "      <td>12.345000</td>\n",
              "      <td>17.090000</td>\n",
              "    </tr>\n",
              "    <tr>\n",
              "      <th>75%</th>\n",
              "      <td>50.812500</td>\n",
              "      <td>43.872500</td>\n",
              "      <td>15.855000</td>\n",
              "      <td>20.962500</td>\n",
              "    </tr>\n",
              "    <tr>\n",
              "      <th>max</th>\n",
              "      <td>273.770000</td>\n",
              "      <td>106.030000</td>\n",
              "      <td>38.030000</td>\n",
              "      <td>87.210000</td>\n",
              "    </tr>\n",
              "  </tbody>\n",
              "</table>\n",
              "</div>"
            ],
            "text/plain": [
              "             pm10         no2         so2        soot\n",
              "count  588.000000  588.000000  588.000000  588.000000\n",
              "mean    44.648248   37.296922   13.605170   18.441310\n",
              "std     28.992087   10.940050    5.098944    6.596459\n",
              "min     11.900000   15.070000    4.990000    8.000000\n",
              "25%     28.337500   29.217500   10.122500   14.410000\n",
              "50%     35.555000   35.815000   12.345000   17.090000\n",
              "75%     50.812500   43.872500   15.855000   20.962500\n",
              "max    273.770000  106.030000   38.030000   87.210000"
            ]
          },
          "metadata": {
            "tags": []
          },
          "execution_count": 7
        }
      ]
    },
    {
      "cell_type": "markdown",
      "metadata": {
        "id": "iGqBm9LZzyqi",
        "colab_type": "text"
      },
      "source": [
        "## Basic Data Analysis and Validation\n",
        "[Get started with TFDV](https://www.tensorflow.org/tfx/data_validation/get_started)"
      ]
    },
    {
      "cell_type": "markdown",
      "metadata": {
        "id": "wAVQXEGG0RKH",
        "colab_type": "text"
      },
      "source": [
        "### Generate Statistics and Visualize"
      ]
    },
    {
      "cell_type": "code",
      "metadata": {
        "id": "WByxycNeziDA",
        "colab_type": "code",
        "colab": {
          "base_uri": "https://localhost:8080/",
          "height": 630
        },
        "outputId": "624f59d0-826b-4114-a812-cdef974f2bd2"
      },
      "source": [
        "traindset_stats = tfdv.generate_statistics_from_dataframe(dataframe=dataset)\n",
        "tfdv.visualize_statistics(traindset_stats)"
      ],
      "execution_count": 8,
      "outputs": [
        {
          "output_type": "display_data",
          "data": {
            "text/plain": [
              "<IPython.core.display.HTML object>"
            ],
            "text/html": [
              "<iframe id='facets-iframe' width=\"100%\" height=\"500px\"></iframe>\n",
              "        <script>\n",
              "        facets_iframe = document.getElementById('facets-iframe');\n",
              "        facets_html = '<link rel=\"import\" href=\"https://raw.githubusercontent.com/PAIR-code/facets/master/facets-dist/facets-jupyter.html\"><facets-overview proto-input=\"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\"></facets-overview>';\n",
              "        facets_iframe.srcdoc = facets_html;\n",
              "         facets_iframe.id = \"\";\n",
              "         setTimeout(() => {\n",
              "           facets_iframe.setAttribute('height', facets_iframe.contentWindow.document.body.offsetHeight + 'px')\n",
              "         }, 1500)\n",
              "         </script>"
            ]
          },
          "metadata": {
            "tags": []
          }
        }
      ]
    },
    {
      "cell_type": "markdown",
      "metadata": {
        "id": "BitwkaZ00_iL",
        "colab_type": "text"
      },
      "source": [
        "### Infering the schema"
      ]
    },
    {
      "cell_type": "code",
      "metadata": {
        "id": "26We0ahE1CKP",
        "colab_type": "code",
        "colab": {
          "base_uri": "https://localhost:8080/",
          "height": 235
        },
        "outputId": "d6126a6f-63bd-429c-e565-21fa4bd25e6d"
      },
      "source": [
        "schema = tfdv.infer_schema(statistics=traindset_stats)\n",
        "tfdv.display_schema(schema)"
      ],
      "execution_count": 9,
      "outputs": [
        {
          "output_type": "display_data",
          "data": {
            "text/plain": [
              "               Type  Presence Valency Domain\n",
              "Feature name                                \n",
              "'soot'        FLOAT  required              -\n",
              "'no2'         FLOAT  required              -\n",
              "'pm10'        FLOAT  required              -\n",
              "'Date'        BYTES  required              -\n",
              "'so2'         FLOAT  required              -"
            ],
            "text/html": [
              "<div>\n",
              "<style scoped>\n",
              "    .dataframe tbody tr th:only-of-type {\n",
              "        vertical-align: middle;\n",
              "    }\n",
              "\n",
              "    .dataframe tbody tr th {\n",
              "        vertical-align: top;\n",
              "    }\n",
              "\n",
              "    .dataframe thead th {\n",
              "        text-align: right;\n",
              "    }\n",
              "</style>\n",
              "<table border=\"1\" class=\"dataframe\">\n",
              "  <thead>\n",
              "    <tr style=\"text-align: right;\">\n",
              "      <th></th>\n",
              "      <th>Type</th>\n",
              "      <th>Presence</th>\n",
              "      <th>Valency</th>\n",
              "      <th>Domain</th>\n",
              "    </tr>\n",
              "    <tr>\n",
              "      <th>Feature name</th>\n",
              "      <th></th>\n",
              "      <th></th>\n",
              "      <th></th>\n",
              "      <th></th>\n",
              "    </tr>\n",
              "  </thead>\n",
              "  <tbody>\n",
              "    <tr>\n",
              "      <th>'soot'</th>\n",
              "      <td>FLOAT</td>\n",
              "      <td>required</td>\n",
              "      <td></td>\n",
              "      <td>-</td>\n",
              "    </tr>\n",
              "    <tr>\n",
              "      <th>'no2'</th>\n",
              "      <td>FLOAT</td>\n",
              "      <td>required</td>\n",
              "      <td></td>\n",
              "      <td>-</td>\n",
              "    </tr>\n",
              "    <tr>\n",
              "      <th>'pm10'</th>\n",
              "      <td>FLOAT</td>\n",
              "      <td>required</td>\n",
              "      <td></td>\n",
              "      <td>-</td>\n",
              "    </tr>\n",
              "    <tr>\n",
              "      <th>'Date'</th>\n",
              "      <td>BYTES</td>\n",
              "      <td>required</td>\n",
              "      <td></td>\n",
              "      <td>-</td>\n",
              "    </tr>\n",
              "    <tr>\n",
              "      <th>'so2'</th>\n",
              "      <td>FLOAT</td>\n",
              "      <td>required</td>\n",
              "      <td></td>\n",
              "      <td>-</td>\n",
              "    </tr>\n",
              "  </tbody>\n",
              "</table>\n",
              "</div>"
            ]
          },
          "metadata": {
            "tags": []
          }
        }
      ]
    },
    {
      "cell_type": "markdown",
      "metadata": {
        "id": "6BnDXqiz3vy6",
        "colab_type": "text"
      },
      "source": [
        "## Test Dataset Validation\n",
        "Does the test dataset conform to the Schema?"
      ]
    },
    {
      "cell_type": "markdown",
      "metadata": {
        "id": "kWlDe6VJ37ko",
        "colab_type": "text"
      },
      "source": [
        "### Check for Anomalies\n",
        "The original test dataset we are using does not differ from the data specification."
      ]
    },
    {
      "cell_type": "code",
      "metadata": {
        "id": "UAfRZBnL3qx3",
        "colab_type": "code",
        "colab": {
          "base_uri": "https://localhost:8080/",
          "height": 57
        },
        "outputId": "5db0214f-82f5-433e-9654-6db6d654d061"
      },
      "source": [
        "testdset_stats = tfdv.generate_statistics_from_dataframe(dataframe=testdset)\n",
        "anomalies = tfdv.validate_statistics(statistics=testdset_stats, schema=schema)\n",
        "tfdv.display_anomalies(anomalies)"
      ],
      "execution_count": 10,
      "outputs": [
        {
          "output_type": "display_data",
          "data": {
            "text/plain": [
              "<IPython.core.display.HTML object>"
            ],
            "text/html": [
              "<h4 style=\"color:green;\">No anomalies found.</h4>"
            ]
          },
          "metadata": {
            "tags": []
          }
        }
      ]
    },
    {
      "cell_type": "markdown",
      "metadata": {
        "id": "shY10N0N3_DD",
        "colab_type": "text"
      },
      "source": [
        "However, a \"corrupted\" version of the original test dataset will not comply with the specification."
      ]
    },
    {
      "cell_type": "code",
      "metadata": {
        "id": "pexizEYr4Bqn",
        "colab_type": "code",
        "outputId": "44d35ae1-effa-4859-b9ec-527e84757ef7",
        "colab": {
          "base_uri": "https://localhost:8080/",
          "height": 111
        }
      },
      "source": [
        "testdset_copy = testdset.copy()\n",
        "testdset_copy[\"pm10\"].replace(6.38,\"six point thirty eight\",inplace=True)\n",
        "testdset_copy.drop(\"soot\", axis=1, inplace=True)\n",
        "testdset_copy_stats = tfdv.generate_statistics_from_dataframe(dataframe=testdset_copy)\n",
        "anomalies_testdset_copy = tfdv.validate_statistics(statistics=testdset_copy_stats, schema=schema)\n",
        "tfdv.display_anomalies(anomalies_testdset_copy)"
      ],
      "execution_count": 14,
      "outputs": [
        {
          "output_type": "display_data",
          "data": {
            "text/plain": [
              "             Anomaly short description      Anomaly long description\n",
              "Feature name                                                        \n",
              "'soot'        Column dropped            Column is completely missing"
            ],
            "text/html": [
              "<div>\n",
              "<style scoped>\n",
              "    .dataframe tbody tr th:only-of-type {\n",
              "        vertical-align: middle;\n",
              "    }\n",
              "\n",
              "    .dataframe tbody tr th {\n",
              "        vertical-align: top;\n",
              "    }\n",
              "\n",
              "    .dataframe thead th {\n",
              "        text-align: right;\n",
              "    }\n",
              "</style>\n",
              "<table border=\"1\" class=\"dataframe\">\n",
              "  <thead>\n",
              "    <tr style=\"text-align: right;\">\n",
              "      <th></th>\n",
              "      <th>Anomaly short description</th>\n",
              "      <th>Anomaly long description</th>\n",
              "    </tr>\n",
              "    <tr>\n",
              "      <th>Feature name</th>\n",
              "      <th></th>\n",
              "      <th></th>\n",
              "    </tr>\n",
              "  </thead>\n",
              "  <tbody>\n",
              "    <tr>\n",
              "      <th>'soot'</th>\n",
              "      <td>Column dropped</td>\n",
              "      <td>Column is completely missing</td>\n",
              "    </tr>\n",
              "  </tbody>\n",
              "</table>\n",
              "</div>"
            ]
          },
          "metadata": {
            "tags": []
          }
        }
      ]
    },
    {
      "cell_type": "markdown",
      "metadata": {
        "id": "IlrBt63h7_UB",
        "colab_type": "text"
      },
      "source": [
        "##  Dealing with Schemas in Production\n",
        "Implementing machine learning (and in particular deep learning) applications at production level requires to be cognizant of the end-to-end pipeline.\n",
        "\n",
        "Under the above consideration, it is advisable to define a single schema for all of the data that could ever flow all along the pipeline, but at the same time it is advisable to define subsets of the original schema (referred to as environments) that define subsets of the data that could flow at particular stages of the pipeline."
      ]
    },
    {
      "cell_type": "code",
      "metadata": {
        "id": "MgWLB_TW8Epa",
        "colab_type": "code",
        "colab": {}
      },
      "source": [
        "schema.default_environment.append(\"TRAINING\")\n",
        "schema.default_environment.append(\"SERVING\")\n",
        "\n",
        "tfdv.get_feature(schema, \"soot\").not_in_environment.append(\"SERVING\")"
      ],
      "execution_count": 0,
      "outputs": []
    },
    {
      "cell_type": "markdown",
      "metadata": {
        "id": "QonMtSXb8KWY",
        "colab_type": "text"
      },
      "source": [
        "### Checking for anomalies between the SERVING environment and new test set\n",
        "Checking for anomalies on data expected in the inference phase of the ML application should be performed relative to the SERVING environment. In our running example, the ommision of column `soot` should not yield an alert."
      ]
    },
    {
      "cell_type": "code",
      "metadata": {
        "id": "ZXdZ9tk58Rh_",
        "colab_type": "code",
        "colab": {
          "base_uri": "https://localhost:8080/",
          "height": 57
        },
        "outputId": "2994492e-a816-405f-ff2c-868495a1a0d1"
      },
      "source": [
        "anomalies_env_serving = tfdv.validate_statistics(testdset_copy_stats, schema, environment=\"SERVING\")\n",
        "tfdv.display_anomalies(anomalies_env_serving)"
      ],
      "execution_count": 16,
      "outputs": [
        {
          "output_type": "display_data",
          "data": {
            "text/plain": [
              "<IPython.core.display.HTML object>"
            ],
            "text/html": [
              "<h4 style=\"color:green;\">No anomalies found.</h4>"
            ]
          },
          "metadata": {
            "tags": []
          }
        }
      ]
    }
  ]
}